{
 "cells": [
  {
   "cell_type": "code",
   "execution_count": 22,
   "metadata": {
    "collapsed": false
   },
   "outputs": [
    {
     "name": "stdout",
     "output_type": "stream",
     "text": [
      "CREATE (fannie_belle_murphy:Person {name:'Fannie Belle Murphy', gender:'Female', birth_date:'1872', birth_location:'Connecticut', death_date:'1942', death_location:'NY'})\n",
      "CREATE (george_case_calhoun:Person {name:'George Case Calhoun', gender:'Male', birth_date:'', birth_location:'', death_date:'', death_location:''})\n",
      "CREATE (charles_lemon_calhoun:Person {name:'Charles Lemon Calhoun', gender:'Male', birth_date:'12/9/1839', birth_location:'Washington, Litchfield City, Connecticut', death_date:'', death_location:''})\n",
      "CREATE (melissa_lola_calhoun:Person {name:'Melissa Lola Calhoun', gender:'Female', birth_date:'1/16/1836', birth_location:'Barkhamsted, Litchfield Cty, Connecticut', death_date:'', death_location:''})\n",
      "CREATE (samuel_b_murphy:Person {name:'Samuel B. Murphy', gender:'Male', birth_date:'9/29/1874', birth_location:'Bushmills Antrim Cty, Northern Ireland', death_date:'1959', death_location:'Binghamton, NY'})\n",
      "CREATE (mildred_gladys_wightman:Person {name:'Mildred Gladys Wightman', gender:'Female', birth_date:'', birth_location:'', death_date:'', death_location:''})\n",
      "CREATE (fannie_m_culver:Person {name:'Fannie M. Culver', gender:'Female', birth_date:'', birth_location:'Newfane', death_date:'', death_location:''})\n",
      "CREATE (laura_m_hodges:Person {name:'Laura M. Hodges', gender:'Female', birth_date:'', birth_location:'', death_date:'', death_location:''})\n",
      "CREATE (arthur_m_murphy:Person {name:'Arthur M. Murphy', gender:'Male', birth_date:'8/30/1905', birth_location:'Watertown, CT', death_date:'7/18/1999', death_location:'Oneonta, NY'})\n",
      "CREATE (leonard_murphy:Person {name:'Leonard Murphy', gender:'Male', birth_date:'', birth_location:'', death_date:'', death_location:''})\n",
      "CREATE (howard_murphy:Person {name:'Howard Murphy', gender:'Male', birth_date:'1935', birth_location:'NY', death_date:'1982', death_location:'Florida'})\n",
      "CREATE (walter_murphy:Person {name:'Walter Murphy', gender:'Male', birth_date:'', birth_location:'', death_date:'', death_location:''})\n",
      "CREATE (ralph_murphy:Person {name:'Ralph Murphy', gender:'Male', birth_date:'', birth_location:'', death_date:'', death_location:''})\n",
      "CREATE (daniel_jean_jene_murphy:Person {name:'Daniel Jean (Jene) Murphy', gender:'Male', birth_date:'', birth_location:'', death_date:'', death_location:''})\n",
      "CREATE (robert_murphy:Person {name:'Robert Murphy', gender:'Male', birth_date:'', birth_location:'', death_date:'', death_location:''})\n",
      "CREATE (marjorie_douglas:Person {name:'Marjorie Douglas', gender:'Female', birth_date:'', birth_location:'', death_date:'11/21/1974', death_location:''})\n",
      "CREATE (douglas_a_murphy:Person {name:'Douglas A. Murphy', gender:'Male', birth_date:'', birth_location:'', death_date:'', death_location:''})\n",
      "CREATE (marion_murphy:Person {name:'Marion Murphy', gender:'Female', birth_date:'', birth_location:'', death_date:'', death_location:''})\n",
      "CREATE (nancy_j_murphy:Person {name:'Nancy J. Murphy', gender:'Female', birth_date:'', birth_location:'Morris', death_date:'', death_location:''})\n",
      "CREATE (william_murphy:Person {name:'William Murphy', gender:'Male', birth_date:'', birth_location:'', death_date:'', death_location:''})\n",
      "MATCH (melissa_lola_calhoun:Person), (fannie_belle_murphy:Person) WHERE  melissa_lola_calhoun.name = 'Melissa Lola Calhoun' and fannie_belle_murphy.name = 'Fannie Belle Murphy' CREATE (melissa_lola_calhoun)-[:MOTHER]->(fannie_belle_murphy) WITH melissa_lola_calhoun,fannie_belle_murphy RETURN melissa_lola_calhoun,fannie_belle_murphy\n",
      "MATCH (fannie_belle_murphy:Person), (melissa_lola_calhoun:Person) WHERE  melissa_lola_calhoun.name = 'Melissa Lola Calhoun' and fannie_belle_murphy.name = 'Fannie Belle Murphy' CREATE (fannie_belle_murphy)-[:DAUGHTER]->(melissa_lola_calhoun) WITH fannie_belle_murphy,melissa_lola_calhoun RETURN fannie_belle_murphy,melissa_lola_calhoun\n",
      "MATCH (charles_lemon_calhoun:Person), (fannie_belle_murphy:Person) WHERE  charles_lemon_calhoun.name = 'Charles Lemon Calhoun' and fannie_belle_murphy.name = 'Fannie Belle Murphy' CREATE (charles_lemon_calhoun)-[:FATHER]->(fannie_belle_murphy) WITH charles_lemon_calhoun,fannie_belle_murphy RETURN charles_lemon_calhoun,fannie_belle_murphy\n",
      "MATCH (fannie_belle_murphy:Person), (charles_lemon_calhoun:Person) WHERE  charles_lemon_calhoun.name = 'Charles Lemon Calhoun' and fannie_belle_murphy.name = 'Fannie Belle Murphy' CREATE (fannie_belle_murphy)-[:DAUGHTER]->(charles_lemon_calhoun) WITH fannie_belle_murphy,charles_lemon_calhoun RETURN fannie_belle_murphy,charles_lemon_calhoun\n",
      "MATCH (samuel_b_murphy:Person), (fannie_belle_murphy:Person) WHERE  samuel_b_murphy.name = 'Samuel B. Murphy' and fannie_belle_murphy.name = 'Fannie Belle Murphy' CREATE (samuel_b_murphy)-[:MARRIED]->(fannie_belle_murphy) WITH samuel_b_murphy,fannie_belle_murphy RETURN samuel_b_murphy,fannie_belle_murphy\n",
      "MATCH (melissa_lola_calhoun:Person), (george_case_calhoun:Person) WHERE  melissa_lola_calhoun.name = 'Melissa Lola Calhoun' and george_case_calhoun.name = 'George Case Calhoun' CREATE (melissa_lola_calhoun)-[:MOTHER]->(george_case_calhoun) WITH melissa_lola_calhoun,george_case_calhoun RETURN melissa_lola_calhoun,george_case_calhoun\n",
      "MATCH (george_case_calhoun:Person), (melissa_lola_calhoun:Person) WHERE  melissa_lola_calhoun.name = 'Melissa Lola Calhoun' and george_case_calhoun.name = 'George Case Calhoun' CREATE (george_case_calhoun)-[:SON]->(melissa_lola_calhoun) WITH george_case_calhoun,melissa_lola_calhoun RETURN george_case_calhoun,melissa_lola_calhoun\n",
      "MATCH (charles_lemon_calhoun:Person), (george_case_calhoun:Person) WHERE  charles_lemon_calhoun.name = 'Charles Lemon Calhoun' and george_case_calhoun.name = 'George Case Calhoun' CREATE (charles_lemon_calhoun)-[:FATHER]->(george_case_calhoun) WITH charles_lemon_calhoun,george_case_calhoun RETURN charles_lemon_calhoun,george_case_calhoun\n",
      "MATCH (george_case_calhoun:Person), (charles_lemon_calhoun:Person) WHERE  charles_lemon_calhoun.name = 'Charles Lemon Calhoun' and george_case_calhoun.name = 'George Case Calhoun' CREATE (george_case_calhoun)-[:SON]->(charles_lemon_calhoun) WITH george_case_calhoun,charles_lemon_calhoun RETURN george_case_calhoun,charles_lemon_calhoun\n",
      "MATCH (fannie_belle_murphy:Person), (mildred_gladys_wightman:Person) WHERE  fannie_belle_murphy.name = 'Fannie Belle Murphy' and mildred_gladys_wightman.name = 'Mildred Gladys Wightman' CREATE (fannie_belle_murphy)-[:MOTHER]->(mildred_gladys_wightman) WITH fannie_belle_murphy,mildred_gladys_wightman RETURN fannie_belle_murphy,mildred_gladys_wightman\n",
      "MATCH (mildred_gladys_wightman:Person), (fannie_belle_murphy:Person) WHERE  fannie_belle_murphy.name = 'Fannie Belle Murphy' and mildred_gladys_wightman.name = 'Mildred Gladys Wightman' CREATE (mildred_gladys_wightman)-[:DAUGHTER]->(fannie_belle_murphy) WITH mildred_gladys_wightman,fannie_belle_murphy RETURN mildred_gladys_wightman,fannie_belle_murphy\n",
      "MATCH (samuel_b_murphy:Person), (mildred_gladys_wightman:Person) WHERE  samuel_b_murphy.name = 'Samuel B. Murphy' and mildred_gladys_wightman.name = 'Mildred Gladys Wightman' CREATE (samuel_b_murphy)-[:FATHER]->(mildred_gladys_wightman) WITH samuel_b_murphy,mildred_gladys_wightman RETURN samuel_b_murphy,mildred_gladys_wightman\n",
      "MATCH (mildred_gladys_wightman:Person), (samuel_b_murphy:Person) WHERE  samuel_b_murphy.name = 'Samuel B. Murphy' and mildred_gladys_wightman.name = 'Mildred Gladys Wightman' CREATE (mildred_gladys_wightman)-[:DAUGHTER]->(samuel_b_murphy) WITH mildred_gladys_wightman,samuel_b_murphy RETURN mildred_gladys_wightman,samuel_b_murphy\n",
      "MATCH (fannie_belle_murphy:Person), (fannie_m_culver:Person) WHERE  fannie_belle_murphy.name = 'Fannie Belle Murphy' and fannie_m_culver.name = 'Fannie M. Culver' CREATE (fannie_belle_murphy)-[:MOTHER]->(fannie_m_culver) WITH fannie_belle_murphy,fannie_m_culver RETURN fannie_belle_murphy,fannie_m_culver\n",
      "MATCH (fannie_m_culver:Person), (fannie_belle_murphy:Person) WHERE  fannie_belle_murphy.name = 'Fannie Belle Murphy' and fannie_m_culver.name = 'Fannie M. Culver' CREATE (fannie_m_culver)-[:DAUGHTER]->(fannie_belle_murphy) WITH fannie_m_culver,fannie_belle_murphy RETURN fannie_m_culver,fannie_belle_murphy\n",
      "MATCH (samuel_b_murphy:Person), (fannie_m_culver:Person) WHERE  samuel_b_murphy.name = 'Samuel B. Murphy' and fannie_m_culver.name = 'Fannie M. Culver' CREATE (samuel_b_murphy)-[:FATHER]->(fannie_m_culver) WITH samuel_b_murphy,fannie_m_culver RETURN samuel_b_murphy,fannie_m_culver\n",
      "MATCH (fannie_m_culver:Person), (samuel_b_murphy:Person) WHERE  samuel_b_murphy.name = 'Samuel B. Murphy' and fannie_m_culver.name = 'Fannie M. Culver' CREATE (fannie_m_culver)-[:DAUGHTER]->(samuel_b_murphy) WITH fannie_m_culver,samuel_b_murphy RETURN fannie_m_culver,samuel_b_murphy\n",
      "MATCH (fannie_belle_murphy:Person), (laura_m_hodges:Person) WHERE  fannie_belle_murphy.name = 'Fannie Belle Murphy' and laura_m_hodges.name = 'Laura M. Hodges' CREATE (fannie_belle_murphy)-[:MOTHER]->(laura_m_hodges) WITH fannie_belle_murphy,laura_m_hodges RETURN fannie_belle_murphy,laura_m_hodges\n",
      "MATCH (laura_m_hodges:Person), (fannie_belle_murphy:Person) WHERE  fannie_belle_murphy.name = 'Fannie Belle Murphy' and laura_m_hodges.name = 'Laura M. Hodges' CREATE (laura_m_hodges)-[:DAUGHTER]->(fannie_belle_murphy) WITH laura_m_hodges,fannie_belle_murphy RETURN laura_m_hodges,fannie_belle_murphy\n",
      "MATCH (samuel_b_murphy:Person), (laura_m_hodges:Person) WHERE  samuel_b_murphy.name = 'Samuel B. Murphy' and laura_m_hodges.name = 'Laura M. Hodges' CREATE (samuel_b_murphy)-[:FATHER]->(laura_m_hodges) WITH samuel_b_murphy,laura_m_hodges RETURN samuel_b_murphy,laura_m_hodges\n",
      "MATCH (laura_m_hodges:Person), (samuel_b_murphy:Person) WHERE  samuel_b_murphy.name = 'Samuel B. Murphy' and laura_m_hodges.name = 'Laura M. Hodges' CREATE (laura_m_hodges)-[:DAUGHTER]->(samuel_b_murphy) WITH laura_m_hodges,samuel_b_murphy RETURN laura_m_hodges,samuel_b_murphy\n",
      "MATCH (fannie_belle_murphy:Person), (arthur_m_murphy:Person) WHERE  fannie_belle_murphy.name = 'Fannie Belle Murphy' and arthur_m_murphy.name = 'Arthur M. Murphy' CREATE (fannie_belle_murphy)-[:MOTHER]->(arthur_m_murphy) WITH fannie_belle_murphy,arthur_m_murphy RETURN fannie_belle_murphy,arthur_m_murphy\n",
      "MATCH (arthur_m_murphy:Person), (fannie_belle_murphy:Person) WHERE  fannie_belle_murphy.name = 'Fannie Belle Murphy' and arthur_m_murphy.name = 'Arthur M. Murphy' CREATE (arthur_m_murphy)-[:SON]->(fannie_belle_murphy) WITH arthur_m_murphy,fannie_belle_murphy RETURN arthur_m_murphy,fannie_belle_murphy\n",
      "MATCH (samuel_b_murphy:Person), (arthur_m_murphy:Person) WHERE  samuel_b_murphy.name = 'Samuel B. Murphy' and arthur_m_murphy.name = 'Arthur M. Murphy' CREATE (samuel_b_murphy)-[:FATHER]->(arthur_m_murphy) WITH samuel_b_murphy,arthur_m_murphy RETURN samuel_b_murphy,arthur_m_murphy\n",
      "MATCH (arthur_m_murphy:Person), (samuel_b_murphy:Person) WHERE  samuel_b_murphy.name = 'Samuel B. Murphy' and arthur_m_murphy.name = 'Arthur M. Murphy' CREATE (arthur_m_murphy)-[:SON]->(samuel_b_murphy) WITH arthur_m_murphy,samuel_b_murphy RETURN arthur_m_murphy,samuel_b_murphy\n",
      "MATCH (marjorie_douglas:Person), (arthur_m_murphy:Person) WHERE  marjorie_douglas.name = 'Marjorie Douglas' and arthur_m_murphy.name = 'Arthur M. Murphy' CREATE (marjorie_douglas)-[:MARRIED]->(arthur_m_murphy) WITH marjorie_douglas,arthur_m_murphy RETURN marjorie_douglas,arthur_m_murphy\n",
      "MATCH (fannie_belle_murphy:Person), (leonard_murphy:Person) WHERE  fannie_belle_murphy.name = 'Fannie Belle Murphy' and leonard_murphy.name = 'Leonard Murphy' CREATE (fannie_belle_murphy)-[:MOTHER]->(leonard_murphy) WITH fannie_belle_murphy,leonard_murphy RETURN fannie_belle_murphy,leonard_murphy\n",
      "MATCH (leonard_murphy:Person), (fannie_belle_murphy:Person) WHERE  fannie_belle_murphy.name = 'Fannie Belle Murphy' and leonard_murphy.name = 'Leonard Murphy' CREATE (leonard_murphy)-[:SON]->(fannie_belle_murphy) WITH leonard_murphy,fannie_belle_murphy RETURN leonard_murphy,fannie_belle_murphy\n",
      "MATCH (samuel_b_murphy:Person), (leonard_murphy:Person) WHERE  samuel_b_murphy.name = 'Samuel B. Murphy' and leonard_murphy.name = 'Leonard Murphy' CREATE (samuel_b_murphy)-[:FATHER]->(leonard_murphy) WITH samuel_b_murphy,leonard_murphy RETURN samuel_b_murphy,leonard_murphy\n",
      "MATCH (leonard_murphy:Person), (samuel_b_murphy:Person) WHERE  samuel_b_murphy.name = 'Samuel B. Murphy' and leonard_murphy.name = 'Leonard Murphy' CREATE (leonard_murphy)-[:SON]->(samuel_b_murphy) WITH leonard_murphy,samuel_b_murphy RETURN leonard_murphy,samuel_b_murphy\n",
      "MATCH (fannie_belle_murphy:Person), (howard_murphy:Person) WHERE  fannie_belle_murphy.name = 'Fannie Belle Murphy' and howard_murphy.name = 'Howard Murphy' CREATE (fannie_belle_murphy)-[:MOTHER]->(howard_murphy) WITH fannie_belle_murphy,howard_murphy RETURN fannie_belle_murphy,howard_murphy\n",
      "MATCH (howard_murphy:Person), (fannie_belle_murphy:Person) WHERE  fannie_belle_murphy.name = 'Fannie Belle Murphy' and howard_murphy.name = 'Howard Murphy' CREATE (howard_murphy)-[:SON]->(fannie_belle_murphy) WITH howard_murphy,fannie_belle_murphy RETURN howard_murphy,fannie_belle_murphy\n",
      "MATCH (samuel_b_murphy:Person), (howard_murphy:Person) WHERE  samuel_b_murphy.name = 'Samuel B. Murphy' and howard_murphy.name = 'Howard Murphy' CREATE (samuel_b_murphy)-[:FATHER]->(howard_murphy) WITH samuel_b_murphy,howard_murphy RETURN samuel_b_murphy,howard_murphy\n",
      "MATCH (howard_murphy:Person), (samuel_b_murphy:Person) WHERE  samuel_b_murphy.name = 'Samuel B. Murphy' and howard_murphy.name = 'Howard Murphy' CREATE (howard_murphy)-[:SON]->(samuel_b_murphy) WITH howard_murphy,samuel_b_murphy RETURN howard_murphy,samuel_b_murphy\n",
      "MATCH (fannie_belle_murphy:Person), (walter_murphy:Person) WHERE  fannie_belle_murphy.name = 'Fannie Belle Murphy' and walter_murphy.name = 'Walter Murphy' CREATE (fannie_belle_murphy)-[:MOTHER]->(walter_murphy) WITH fannie_belle_murphy,walter_murphy RETURN fannie_belle_murphy,walter_murphy\n",
      "MATCH (walter_murphy:Person), (fannie_belle_murphy:Person) WHERE  fannie_belle_murphy.name = 'Fannie Belle Murphy' and walter_murphy.name = 'Walter Murphy' CREATE (walter_murphy)-[:SON]->(fannie_belle_murphy) WITH walter_murphy,fannie_belle_murphy RETURN walter_murphy,fannie_belle_murphy\n",
      "MATCH (samuel_b_murphy:Person), (walter_murphy:Person) WHERE  samuel_b_murphy.name = 'Samuel B. Murphy' and walter_murphy.name = 'Walter Murphy' CREATE (samuel_b_murphy)-[:FATHER]->(walter_murphy) WITH samuel_b_murphy,walter_murphy RETURN samuel_b_murphy,walter_murphy\n",
      "MATCH (walter_murphy:Person), (samuel_b_murphy:Person) WHERE  samuel_b_murphy.name = 'Samuel B. Murphy' and walter_murphy.name = 'Walter Murphy' CREATE (walter_murphy)-[:SON]->(samuel_b_murphy) WITH walter_murphy,samuel_b_murphy RETURN walter_murphy,samuel_b_murphy\n",
      "MATCH (fannie_belle_murphy:Person), (ralph_murphy:Person) WHERE  fannie_belle_murphy.name = 'Fannie Belle Murphy' and ralph_murphy.name = 'Ralph Murphy' CREATE (fannie_belle_murphy)-[:MOTHER]->(ralph_murphy) WITH fannie_belle_murphy,ralph_murphy RETURN fannie_belle_murphy,ralph_murphy\n",
      "MATCH (ralph_murphy:Person), (fannie_belle_murphy:Person) WHERE  fannie_belle_murphy.name = 'Fannie Belle Murphy' and ralph_murphy.name = 'Ralph Murphy' CREATE (ralph_murphy)-[:SON]->(fannie_belle_murphy) WITH ralph_murphy,fannie_belle_murphy RETURN ralph_murphy,fannie_belle_murphy\n",
      "MATCH (samuel_b_murphy:Person), (ralph_murphy:Person) WHERE  samuel_b_murphy.name = 'Samuel B. Murphy' and ralph_murphy.name = 'Ralph Murphy' CREATE (samuel_b_murphy)-[:FATHER]->(ralph_murphy) WITH samuel_b_murphy,ralph_murphy RETURN samuel_b_murphy,ralph_murphy\n",
      "MATCH (ralph_murphy:Person), (samuel_b_murphy:Person) WHERE  samuel_b_murphy.name = 'Samuel B. Murphy' and ralph_murphy.name = 'Ralph Murphy' CREATE (ralph_murphy)-[:SON]->(samuel_b_murphy) WITH ralph_murphy,samuel_b_murphy RETURN ralph_murphy,samuel_b_murphy\n",
      "MATCH (fannie_belle_murphy:Person), (daniel_jean_jene_murphy:Person) WHERE  fannie_belle_murphy.name = 'Fannie Belle Murphy' and daniel_jean_jene_murphy.name = 'Daniel Jean (Jene) Murphy' CREATE (fannie_belle_murphy)-[:MOTHER]->(daniel_jean_jene_murphy) WITH fannie_belle_murphy,daniel_jean_jene_murphy RETURN fannie_belle_murphy,daniel_jean_jene_murphy\n",
      "MATCH (daniel_jean_jene_murphy:Person), (fannie_belle_murphy:Person) WHERE  fannie_belle_murphy.name = 'Fannie Belle Murphy' and daniel_jean_jene_murphy.name = 'Daniel Jean (Jene) Murphy' CREATE (daniel_jean_jene_murphy)-[:SON]->(fannie_belle_murphy) WITH daniel_jean_jene_murphy,fannie_belle_murphy RETURN daniel_jean_jene_murphy,fannie_belle_murphy\n",
      "MATCH (samuel_b_murphy:Person), (daniel_jean_jene_murphy:Person) WHERE  samuel_b_murphy.name = 'Samuel B. Murphy' and daniel_jean_jene_murphy.name = 'Daniel Jean (Jene) Murphy' CREATE (samuel_b_murphy)-[:FATHER]->(daniel_jean_jene_murphy) WITH samuel_b_murphy,daniel_jean_jene_murphy RETURN samuel_b_murphy,daniel_jean_jene_murphy\n",
      "MATCH (daniel_jean_jene_murphy:Person), (samuel_b_murphy:Person) WHERE  samuel_b_murphy.name = 'Samuel B. Murphy' and daniel_jean_jene_murphy.name = 'Daniel Jean (Jene) Murphy' CREATE (daniel_jean_jene_murphy)-[:SON]->(samuel_b_murphy) WITH daniel_jean_jene_murphy,samuel_b_murphy RETURN daniel_jean_jene_murphy,samuel_b_murphy\n",
      "MATCH (fannie_belle_murphy:Person), (robert_murphy:Person) WHERE  fannie_belle_murphy.name = 'Fannie Belle Murphy' and robert_murphy.name = 'Robert Murphy' CREATE (fannie_belle_murphy)-[:MOTHER]->(robert_murphy) WITH fannie_belle_murphy,robert_murphy RETURN fannie_belle_murphy,robert_murphy\n",
      "MATCH (robert_murphy:Person), (fannie_belle_murphy:Person) WHERE  fannie_belle_murphy.name = 'Fannie Belle Murphy' and robert_murphy.name = 'Robert Murphy' CREATE (robert_murphy)-[:SON]->(fannie_belle_murphy) WITH robert_murphy,fannie_belle_murphy RETURN robert_murphy,fannie_belle_murphy\n",
      "MATCH (samuel_b_murphy:Person), (robert_murphy:Person) WHERE  samuel_b_murphy.name = 'Samuel B. Murphy' and robert_murphy.name = 'Robert Murphy' CREATE (samuel_b_murphy)-[:FATHER]->(robert_murphy) WITH samuel_b_murphy,robert_murphy RETURN samuel_b_murphy,robert_murphy\n",
      "MATCH (robert_murphy:Person), (samuel_b_murphy:Person) WHERE  samuel_b_murphy.name = 'Samuel B. Murphy' and robert_murphy.name = 'Robert Murphy' CREATE (robert_murphy)-[:SON]->(samuel_b_murphy) WITH robert_murphy,samuel_b_murphy RETURN robert_murphy,samuel_b_murphy\n",
      "MATCH (arthur_m_murphy:Person), (marjorie_douglas:Person) WHERE  arthur_m_murphy.name = 'Arthur M. Murphy' and marjorie_douglas.name = 'Marjorie Douglas' CREATE (arthur_m_murphy)-[:MARRIED]->(marjorie_douglas) WITH arthur_m_murphy,marjorie_douglas RETURN arthur_m_murphy,marjorie_douglas\n",
      "MATCH (marjorie_douglas:Person), (douglas_a_murphy:Person) WHERE  marjorie_douglas.name = 'Marjorie Douglas' and douglas_a_murphy.name = 'Douglas A. Murphy' CREATE (marjorie_douglas)-[:MOTHER]->(douglas_a_murphy) WITH marjorie_douglas,douglas_a_murphy RETURN marjorie_douglas,douglas_a_murphy\n",
      "MATCH (douglas_a_murphy:Person), (marjorie_douglas:Person) WHERE  marjorie_douglas.name = 'Marjorie Douglas' and douglas_a_murphy.name = 'Douglas A. Murphy' CREATE (douglas_a_murphy)-[:SON]->(marjorie_douglas) WITH douglas_a_murphy,marjorie_douglas RETURN douglas_a_murphy,marjorie_douglas\n",
      "MATCH (arthur_m_murphy:Person), (douglas_a_murphy:Person) WHERE  arthur_m_murphy.name = 'Arthur M. Murphy' and douglas_a_murphy.name = 'Douglas A. Murphy' CREATE (arthur_m_murphy)-[:FATHER]->(douglas_a_murphy) WITH arthur_m_murphy,douglas_a_murphy RETURN arthur_m_murphy,douglas_a_murphy\n",
      "MATCH (douglas_a_murphy:Person), (arthur_m_murphy:Person) WHERE  arthur_m_murphy.name = 'Arthur M. Murphy' and douglas_a_murphy.name = 'Douglas A. Murphy' CREATE (douglas_a_murphy)-[:SON]->(arthur_m_murphy) WITH douglas_a_murphy,arthur_m_murphy RETURN douglas_a_murphy,arthur_m_murphy\n",
      "MATCH (marion_murphy:Person), (douglas_a_murphy:Person) WHERE  marion_murphy.name = 'Marion Murphy' and douglas_a_murphy.name = 'Douglas A. Murphy' CREATE (marion_murphy)-[:MARRIED]->(douglas_a_murphy) WITH marion_murphy,douglas_a_murphy RETURN marion_murphy,douglas_a_murphy\n",
      "MATCH (marjorie_douglas:Person), (marion_murphy:Person) WHERE  marjorie_douglas.name = 'Marjorie Douglas' and marion_murphy.name = 'Marion Murphy' CREATE (marjorie_douglas)-[:MOTHER]->(marion_murphy) WITH marjorie_douglas,marion_murphy RETURN marjorie_douglas,marion_murphy\n",
      "MATCH (marion_murphy:Person), (marjorie_douglas:Person) WHERE  marjorie_douglas.name = 'Marjorie Douglas' and marion_murphy.name = 'Marion Murphy' CREATE (marion_murphy)-[:DAUGHTER]->(marjorie_douglas) WITH marion_murphy,marjorie_douglas RETURN marion_murphy,marjorie_douglas\n",
      "MATCH (arthur_m_murphy:Person), (marion_murphy:Person) WHERE  arthur_m_murphy.name = 'Arthur M. Murphy' and marion_murphy.name = 'Marion Murphy' CREATE (arthur_m_murphy)-[:FATHER]->(marion_murphy) WITH arthur_m_murphy,marion_murphy RETURN arthur_m_murphy,marion_murphy\n",
      "MATCH (marion_murphy:Person), (arthur_m_murphy:Person) WHERE  arthur_m_murphy.name = 'Arthur M. Murphy' and marion_murphy.name = 'Marion Murphy' CREATE (marion_murphy)-[:DAUGHTER]->(arthur_m_murphy) WITH marion_murphy,arthur_m_murphy RETURN marion_murphy,arthur_m_murphy\n",
      "MATCH (douglas_a_murphy:Person), (marion_murphy:Person) WHERE  douglas_a_murphy.name = 'Douglas A. Murphy' and marion_murphy.name = 'Marion Murphy' CREATE (douglas_a_murphy)-[:MARRIED]->(marion_murphy) WITH douglas_a_murphy,marion_murphy RETURN douglas_a_murphy,marion_murphy\n",
      "MATCH (marjorie_douglas:Person), (nancy_j_murphy:Person) WHERE  marjorie_douglas.name = 'Marjorie Douglas' and nancy_j_murphy.name = 'Nancy J. Murphy' CREATE (marjorie_douglas)-[:MOTHER]->(nancy_j_murphy) WITH marjorie_douglas,nancy_j_murphy RETURN marjorie_douglas,nancy_j_murphy\n",
      "MATCH (nancy_j_murphy:Person), (marjorie_douglas:Person) WHERE  marjorie_douglas.name = 'Marjorie Douglas' and nancy_j_murphy.name = 'Nancy J. Murphy' CREATE (nancy_j_murphy)-[:DAUGHTER]->(marjorie_douglas) WITH nancy_j_murphy,marjorie_douglas RETURN nancy_j_murphy,marjorie_douglas\n",
      "MATCH (arthur_m_murphy:Person), (nancy_j_murphy:Person) WHERE  arthur_m_murphy.name = 'Arthur M. Murphy' and nancy_j_murphy.name = 'Nancy J. Murphy' CREATE (arthur_m_murphy)-[:FATHER]->(nancy_j_murphy) WITH arthur_m_murphy,nancy_j_murphy RETURN arthur_m_murphy,nancy_j_murphy\n",
      "MATCH (nancy_j_murphy:Person), (arthur_m_murphy:Person) WHERE  arthur_m_murphy.name = 'Arthur M. Murphy' and nancy_j_murphy.name = 'Nancy J. Murphy' CREATE (nancy_j_murphy)-[:DAUGHTER]->(arthur_m_murphy) WITH nancy_j_murphy,arthur_m_murphy RETURN nancy_j_murphy,arthur_m_murphy\n",
      "MATCH (william_murphy:Person), (nancy_j_murphy:Person) WHERE  william_murphy.name = 'William Murphy' and nancy_j_murphy.name = 'Nancy J. Murphy' CREATE (william_murphy)-[:MARRIED]->(nancy_j_murphy) WITH william_murphy,nancy_j_murphy RETURN william_murphy,nancy_j_murphy\n",
      "MATCH (nancy_j_murphy:Person), (william_murphy:Person) WHERE  nancy_j_murphy.name = 'Nancy J. Murphy' and william_murphy.name = 'William Murphy' CREATE (nancy_j_murphy)-[:MARRIED]->(william_murphy) WITH nancy_j_murphy,william_murphy RETURN nancy_j_murphy,william_murphy\n"
     ]
    }
   ],
   "source": [
    "import csv\n",
    "\n",
    "with open('/Users/chada/Desktop/Inbox/Geneology2.csv') as csv_file:\n",
    "    people = list(csv.DictReader(csv_file))\n",
    "    # print(people[0:10])\n",
    "\n",
    "def make_person_id(name):\n",
    "    return name.lower().replace(' ','_').replace('.','').replace('(','').replace(')','').replace('-','') \\\n",
    "    .replace('\"','').replace(\"'\",'').replace('?','').replace('\\\\','').replace('’','').replace('“','') \\\n",
    "    .replace('”','')\n",
    "\n",
    "def make_person(person):\n",
    "    # print(person)\n",
    "    #print(\"CREATE ({}:Person)\".format(make_person_id(person['Name'])))\n",
    "    if (person):\n",
    "        print(\"CREATE ({}:Person {{name:'{}', gender:'{}', birth_date:'{}', \"\n",
    "                 \"birth_location:'{}', death_date:'{}', death_location:'{}'}})\".format(make_person_id(person['Name']), person['Name'], person['Gender'],person['Born'], person['Born Location'], person['Died'], person['Died Location']))\n",
    "\n",
    "def make_relationships(person):\n",
    "    p = make_person_id(person['Name'])\n",
    "    m = make_person_id(person['Mother'])\n",
    "    f = make_person_id(person['Father'])\n",
    "    s = make_person_id(person['Married to'])\n",
    "\n",
    "    if person['Mother'] is not '':\n",
    "        r = m\n",
    "        print(\"MATCH ({}:Person), ({}:Person) WHERE  {}.name = '{}' and {}.name = '{}'\"\n",
    "                \" CREATE ({})-[:MOTHER]->({}) WITH {},{}\"\n",
    "                \" RETURN {},{}\".format(r,p,r,person['Mother'],p,person['Name'],r,p,r,p,r,p))\n",
    "\n",
    "        if person['Gender'] == 'Male':\n",
    "            print(\"MATCH ({}:Person), ({}:Person) WHERE  {}.name = '{}' and {}.name = '{}'\"\n",
    "                \" CREATE ({})-[:SON]->({}) WITH {},{}\"\n",
    "                \" RETURN {},{}\".format(p,r,r,person['Mother'],p,person['Name'],p,r,p,r,p,r))\n",
    "        else:\n",
    "            print(\"MATCH ({}:Person), ({}:Person) WHERE  {}.name = '{}' and {}.name = '{}'\"\n",
    "                \" CREATE ({})-[:DAUGHTER]->({}) WITH {},{}\"\n",
    "                \" RETURN {},{}\".format(p,r,r,person['Mother'],p,person['Name'],p,r,p,r,p,r))\n",
    "\n",
    "    if person['Father'] is not '':\n",
    "        r = f\n",
    "        print(\"MATCH ({}:Person), ({}:Person) WHERE  {}.name = '{}' and {}.name = '{}'\"\n",
    "                \" CREATE ({})-[:FATHER]->({}) WITH {},{}\"\n",
    "                \" RETURN {},{}\".format(r,p,r,person['Father'],p,person['Name'],r,p,r,p,r,p))\n",
    "\n",
    "        if person['Gender'] == 'Male':\n",
    "            print(\"MATCH ({}:Person), ({}:Person) WHERE  {}.name = '{}' and {}.name = '{}'\"\n",
    "                \" CREATE ({})-[:SON]->({}) WITH {},{}\"\n",
    "                \" RETURN {},{}\".format(p,r,r,person['Father'],p,person['Name'],p,r,p,r,p,r))\n",
    "        else:\n",
    "            print(\"MATCH ({}:Person), ({}:Person) WHERE  {}.name = '{}' and {}.name = '{}'\"\n",
    "                \" CREATE ({})-[:DAUGHTER]->({}) WITH {},{}\"\n",
    "                \" RETURN {},{}\".format(p,r,r,person['Father'],p,person['Name'],p,r,p,r,p,r))\n",
    "\n",
    "    if person['Married to'] is not '':\n",
    "        r = s\n",
    "        print(\"MATCH ({}:Person), ({}:Person) WHERE  {}.name = '{}' and {}.name = '{}'\"\n",
    "                \" CREATE ({})-[:MARRIED]->({}) WITH {},{}\"\n",
    "                \" RETURN {},{}\".format(r,p,r,person['Married to'],p,person['Name'],r,p,r,p,r,p))\n",
    "\n",
    "num_rows_to_process = 20\n",
    "\n",
    "for person in people[0:num_rows_to_process]:\n",
    "    make_person(person)\n",
    "\n",
    "for person in people[0:num_rows_to_process]:\n",
    "    make_relationships(person)"
   ]
  },
  {
   "cell_type": "code",
   "execution_count": 1,
   "metadata": {
    "collapsed": false
   },
   "outputs": [
    {
     "name": "stdout",
     "output_type": "stream",
     "text": [
      "Requirement already satisfied: neo4j in /Users/chadarmstrong/Obsidian/Obsidian Vault/.conda/lib/python3.11/site-packages (5.28.1)\n",
      "Requirement already satisfied: pytz in /Users/chadarmstrong/Obsidian/Obsidian Vault/.conda/lib/python3.11/site-packages (from neo4j) (2023.3.post1)\n",
      "Note: you may need to restart the kernel to use updated packages.\n"
     ]
    }
   ],
   "source": [
    "%pip install neo4j\n"
   ]
  },
  {
   "cell_type": "code",
   "execution_count": 24,
   "metadata": {
    "collapsed": false
   },
   "outputs": [
    {
     "name": "stdout",
     "output_type": "stream",
     "text": [
      "\u001b[33mDEPRECATION: Python 3.4 support has been deprecated. pip 19.1 will be the last one supporting it. Please upgrade your Python as Python 3.4 won't be maintained after March 2019 (cf PEP 429).\u001b[0m\n",
      "Collecting pip\n",
      "\u001b[?25l  Downloading https://files.pythonhosted.org/packages/d8/f3/413bab4ff08e1fc4828dfc59996d721917df8e8583ea85385d51125dceff/pip-19.0.3-py2.py3-none-any.whl (1.4MB)\n",
      "\u001b[K    100% |████████████████████████████████| 1.4MB 3.5MB/s eta 0:00:01\n",
      "\u001b[?25hInstalling collected packages: pip\n",
      "  Found existing installation: pip 19.0.1\n",
      "    Uninstalling pip-19.0.1:\n",
      "\u001b[31mCould not install packages due to an EnvironmentError: [Errno 13] Permission denied: '/Users/chada/anaconda/envs/python341/lib/python3.4/site-packages/pip-19.0.1.dist-info/entry_points.txt'\n",
      "Consider using the `--user` option or check the permissions.\n",
      "\u001b[0m\n",
      "\u001b[33mYou are using pip version 19.0.1, however version 19.0.3 is available.\n",
      "You should consider upgrading via the 'pip install --upgrade pip' command.\u001b[0m\n"
     ]
    }
   ],
   "source": [
    "%pip install --upgrade pip"
   ]
  },
  {
   "cell_type": "code",
   "execution_count": 25,
   "metadata": {
    "collapsed": true
   },
   "outputs": [],
   "source": [
    "from neo4j import GraphDatabase"
   ]
  },
  {
   "cell_type": "code",
   "execution_count": 38,
   "metadata": {
    "collapsed": false
   },
   "outputs": [
    {
     "name": "stdout",
     "output_type": "stream",
     "text": [
      "<Record m=<Node id=20 labels={'Person'} properties={'gender': 'Female', 'birth_location': '', 'name': 'Ann Waldron', 'birth_date': '', 'death_location': '', 'death_date': ''}> f=<Node id=21 labels={'Person'} properties={'gender': 'Male', 'birth_location': 'Lodi, NY', 'name': 'Jehiel Armstrong', 'birth_date': '2/2/1827', 'death_location': 'Withe County, Virginia', 'death_date': '6/15/1864'}>>\n"
     ]
    }
   ],
   "source": [
    "uri = \"bolt://52.205.81.5:7687\"\n",
    "driver = GraphDatabase.driver(uri, auth=(\"neo4j\", \"7i=fBzYZ\"))\n",
    "statement = (\"MATCH (m:Person), (f:Person) WHERE m.name = 'Ann Waldron' and f.name = 'Jehiel Armstrong' return m, f\")\n",
    "\n",
    "with driver.session() as session:\n",
    "    with session.begin_transaction() as tx:\n",
    "        result = tx.run(statement)\n",
    "        for record in result:\n",
    "            print(record[\"m\"], record[\"f\"])\n"
   ]
  },
  {
   "cell_type": "code",
   "execution_count": null,
   "metadata": {
    "collapsed": true
   },
   "outputs": [],
   "source": []
  }
 ],
 "metadata": {
  "kernelspec": {
   "display_name": "Python 3",
   "language": "python",
   "name": "python3"
  },
  "language_info": {
   "codemirror_mode": {
    "name": "ipython",
    "version": 3
   },
   "file_extension": ".py",
   "mimetype": "text/x-python",
   "name": "python",
   "nbconvert_exporter": "python",
   "pygments_lexer": "ipython3",
   "version": "3.11.5"
  }
 },
 "nbformat": 4,
 "nbformat_minor": 2
}
