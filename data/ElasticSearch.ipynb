{
 "cells": [
  {
   "cell_type": "code",
   "execution_count": 1,
   "metadata": {
    "collapsed": false
   },
   "outputs": [
    {
     "name": "stdout",
     "output_type": "stream",
     "text": [
      "b'{\\n  \"name\" : \"PzcO3EK\",\\n  \"cluster_name\" : \"839089019834:cbsnews-aswan-es\",\\n  \"cluster_uuid\" : \"a4WuC2x3S-ClnvBCrvnKoQ\",\\n  \"version\" : {\\n    \"number\" : \"5.5.2\",\\n    \"build_hash\" : \"Unknown\",\\n    \"build_date\" : \"2017-10-18T04:35:01.381Z\",\\n    \"build_snapshot\" : false,\\n    \"lucene_version\" : \"6.6.0\"\\n  },\\n  \"tagline\" : \"You Know, for Search\"\\n}\\n'\n"
     ]
    }
   ],
   "source": [
    "# from https://tryolabs.com/blog/2015/02/17/python-elasticsearch-first-steps/\n",
    "\n",
    "# make sure ES is up and running\n",
    "import requests\n",
    "#res = requests.get('http://localhost:9200')\n",
    "res = requests.get('https://search-cbsnews-aswan-es-kdnk6rytsth2a2s3o53qhw4huy.us-east-1.es.amazonaws.com')\n",
    "print(res.content)"
   ]
  },
  {
   "cell_type": "code",
   "execution_count": 35,
   "metadata": {
    "collapsed": false
   },
   "outputs": [],
   "source": [
    "#connect to our cluster\n",
    "from elasticsearch import Elasticsearch\n",
    "#es = Elasticsearch([{'host': 'localhost', 'port': 9200}])\n",
    "es = Elasticsearch([{'host': 'search-cbsnews-aswan-es-kdnk6rytsth2a2s3o53qhw4huy.us-east-1.es.amazonaws.com', 'port': 80}])"
   ]
  },
  {
   "cell_type": "code",
   "execution_count": 29,
   "metadata": {
    "collapsed": false
   },
   "outputs": [],
   "source": [
    "import csv\n",
    "\n",
    "with open('/Users/chada/Desktop/Archive/Programming/Node/geneology/data/Geneology.csv') as csv_file:\n",
    "    people = list(csv.DictReader(csv_file))"
   ]
  },
  {
   "cell_type": "code",
   "execution_count": 12,
   "metadata": {
    "collapsed": false
   },
   "outputs": [
    {
     "data": {
      "text/plain": [
       "{'': '',\n",
       " 'Born': '',\n",
       " 'Born Location': '',\n",
       " 'Died': '',\n",
       " 'Died Location': '',\n",
       " 'Father': '',\n",
       " 'Gender': 'Male',\n",
       " 'Married Date': '',\n",
       " 'Married Location': '',\n",
       " 'Married to': 'Ann Waldron',\n",
       " 'Mother': '',\n",
       " 'Name': 'Joseph Armstrong',\n",
       " 'Notes': '',\n",
       " 'Second Marriage Date': '',\n",
       " 'Second Marriage Location': '',\n",
       " 'Second Marriage to': '',\n",
       " 'Third Marriage Date': '',\n",
       " 'Third Marriage to': ''}"
      ]
     },
     "execution_count": 12,
     "metadata": {},
     "output_type": "execute_result"
    }
   ],
   "source": [
    "people[0]"
   ]
  },
  {
   "cell_type": "code",
   "execution_count": 30,
   "metadata": {
    "collapsed": false
   },
   "outputs": [
    {
     "name": "stdout",
     "output_type": "stream",
     "text": [
      "{'married_date': None, 'died_date': None, 'born_date': None, 'name': 'Ann Waldron'}\n",
      "{'married_date': '3/4/1848', 'died_date': '6/15/1864', 'born_date': '2/2/1827', 'name': 'Jehiel Armstrong'}\n",
      "{'married_date': '3/4/1848', 'died_date': '10/16/1888', 'born_date': '1/4/1832', 'name': 'Rebecca Starks'}\n",
      "{'married_date': None, 'died_date': '01/01/1909', 'born_date': '01/01/1849', 'name': 'Thomas Waldron Armstrong'}\n",
      "{'married_date': None, 'died_date': '01/01/1930', 'born_date': '9/1/1854', 'name': 'Miles Aldridge Armstrong'}\n"
     ]
    }
   ],
   "source": [
    "import json \n",
    "\n",
    "i = 1\n",
    "for person in people[1:6]:\n",
    "    #print(person)    \n",
    "    born_date = person['Born']\n",
    "    died_date = person['Died']\n",
    "    married_date = person['Married Date']\n",
    "\n",
    "    if len(born_date) == 4:\n",
    "        born_date = '01/01/' + born_date\n",
    "    if len(died_date) == 4:\n",
    "        died_date = '01/01/' + died_date\n",
    "    if len(married_date) == 4:\n",
    "        married_date = '01/01/' + married_date\n",
    "        \n",
    "    if len(born_date) == 0:\n",
    "        born_date = None\n",
    "    if len(died_date) == 0:\n",
    "        died_date = None\n",
    "    if len(married_date) == 0:\n",
    "        married_date = None\n",
    "\n",
    "    trunc_person = {'name':person['Name'], 'born_date':born_date, 'died_date':died_date, 'married_date':married_date }\n",
    "    print(trunc_person)\n",
    "    es.index(index='people', doc_type='person', id=i, body=json.dumps(trunc_person))\n",
    "    i = i + 1"
   ]
  },
  {
   "cell_type": "code",
   "execution_count": 33,
   "metadata": {
    "collapsed": false
   },
   "outputs": [
    {
     "data": {
      "text/plain": [
       "{'_id': '2',\n",
       " '_index': 'people',\n",
       " '_source': {'born_date': '2/2/1827',\n",
       "  'died_date': '6/15/1864',\n",
       "  'married_date': '3/4/1848',\n",
       "  'name': 'Jehiel Armstrong'},\n",
       " '_type': 'person',\n",
       " '_version': 1,\n",
       " 'found': True}"
      ]
     },
     "execution_count": 33,
     "metadata": {},
     "output_type": "execute_result"
    }
   ],
   "source": [
    "es.get(index='people', doc_type='person', id=2)"
   ]
  },
  {
   "cell_type": "code",
   "execution_count": 142,
   "metadata": {
    "collapsed": false
   },
   "outputs": [
    {
     "data": {
      "text/plain": [
       "{'_shards': {'failed': 0, 'skipped': 0, 'successful': 5, 'total': 5},\n",
       " 'hits': {'hits': [{'_id': '30',\n",
       "    '_index': 'people',\n",
       "    '_score': 4.061613,\n",
       "    '_source': {'born_date': '8/15/1971',\n",
       "     'died_date': None,\n",
       "     'married_date': '10/27/2008',\n",
       "     'name': 'Chad David Armstrong'},\n",
       "    '_type': 'person'},\n",
       "   {'_id': '338',\n",
       "    '_index': 'people',\n",
       "    '_score': 2.688146,\n",
       "    '_source': {'born_date': '9/6/1921',\n",
       "     'died_date': '5/8/2007',\n",
       "     'married_date': '4/23/1948',\n",
       "     'name': 'Charlotte Evelyn “Char\" Chaffee'},\n",
       "    '_type': 'person'}],\n",
       "  'max_score': 4.061613,\n",
       "  'total': 2},\n",
       " 'timed_out': False,\n",
       " 'took': 256}"
      ]
     },
     "execution_count": 142,
     "metadata": {},
     "output_type": "execute_result"
    }
   ],
   "source": [
    "#es.search(index=\"people\", body={\"query\": {\"match\": {'name':'Chad David'}}})\n",
    "#es.search(index=\"people\", body={\"query\": {\"match_all\": {}}})\n",
    "\n",
    "#es.search(index=\"people\", body={\"query\": {\"prefix\" : { \"name\" : \"ch\" }}})\n",
    "\n",
    "es.search(index=\"people\", body={\"query\": {\"fuzzy\" : { \"name\" : {\"value\": \"chad\", \"max_expansions\":5}}}})\n",
    "\n",
    "# NOT WORKS - es.search(index=\"people\", body={\"query\": {\"multi_match\": {\"fields\": [\"_all\"], \"query\": \"chad\", \"fuzziness\": \"AUTO\"}}})"
   ]
  },
  {
   "cell_type": "code",
   "execution_count": 4,
   "metadata": {
    "collapsed": false
   },
   "outputs": [
    {
     "data": {
      "text/plain": [
       "False"
      ]
     },
     "execution_count": 4,
     "metadata": {},
     "output_type": "execute_result"
    }
   ],
   "source": [
    "from elasticsearch.client import IndicesClient\n",
    "#iclient.delete(index='people')\n",
    "\n",
    "es_index = IndicesClient(es)\n",
    "es_index.exists(index='people')\n",
    "#es_index.delete(index='people')\n"
   ]
  },
  {
   "cell_type": "code",
   "execution_count": 138,
   "metadata": {
    "collapsed": false
   },
   "outputs": [
    {
     "data": {
      "text/plain": [
       "{'acknowledged': True, 'index': 'people', 'shards_acknowledged': True}"
      ]
     },
     "execution_count": 138,
     "metadata": {},
     "output_type": "execute_result"
    }
   ],
   "source": [
    "body = \"\"\"{\n",
    "  \"mappings\": {\n",
    "    \"person\": {\n",
    "      \"properties\": {\n",
    "        \"name\": {\n",
    "          \"type\":   \"text\"          \n",
    "        },\n",
    "        \"born_date\": {\n",
    "          \"type\":   \"date\",\n",
    "          \"format\": \"MM/dd/yyyy||yyyy\"\n",
    "        },\n",
    "        \"died_date\": {\n",
    "          \"type\":   \"date\",\n",
    "          \"format\": \"MM/dd/yyyy||yyyy\"\n",
    "        },\n",
    "        \"married_date\": {\n",
    "          \"type\":   \"date\",\n",
    "          \"format\": \"MM/dd/yyyy||yyyy\"\n",
    "        }\n",
    "      }\n",
    "    }\n",
    "  }\n",
    "}\"\"\"\n",
    "\n",
    "es_index.create(index='people', body=body)"
   ]
  },
  {
   "cell_type": "code",
   "execution_count": 172,
   "metadata": {
    "collapsed": false
   },
   "outputs": [
    {
     "name": "stdout",
     "output_type": "stream",
     "text": [
      "81838\n",
      "\"{\"data\": [{\"datetime\":\"2018-03-09 15:32:54\"}, ]}\"\n",
      "84533\n",
      "\"{\"data\": [{\"datetime\":\"2018-03-09 15:31:47\"}, ]}\"\n",
      "29997\n",
      "[{'data': [{'datetime': '2018-03-09 15:16:10'}, {'data': {'error': {'message': 'Black screen in Live stream.', 'err_count': 130349, 'err_subcode': 'BLACK_SCREEN'}, 'video': {'watched_duration': 0, 'video_series_id': '10Rr0YTkbMIPLrtSi6Vn3DWJcAuGrfry', 'video_type': 'live', 'bitrate': 0, 'video_id': 'live'}, 'user': {'user_id': '6CA9574D-13A9-4D13-A63A-D4B5E5BC731E'}}, 'event': 'ERROR_VIDEO_PLAY', 'session_id': 'hetVqrGVJewlpbqW3xGnj41azo1wNf6v'}]}, {'data': [{'datetime': '2018-03-09 15:16:10'}, {'data': {'video': {'watched_duration': 0, 'video_series_id': 'qDZEvujoYGCQkyCk4JOn53yCwSX2arrP', 'video_type': 'live', 'bitrate': 0, 'video_id': 'live'}, 'error': {'message': 'Black screen in Live stream.', 'err_count': 45626, 'err_subcode': 'BLACK_SCREEN'}}, 'event': 'ERROR_VIDEO_PLAY', 'session_id': 'isvweDBnEumVshIpizNGTnihxYD41xgF'}]}, {'data': [{'datetime': '2018-03-09 15:16:10'}, {'data': {'error': {'message': 'Black screen in Live stream.', 'err_count': 25897, 'err_subcode': 'BLACK_SCREEN'}, 'video': {'watched_duration': 0, 'video_series_id': '697RfkN3XluclRw3addHRwGlcDTZXjWx', 'video_type': 'live', 'bitrate': 0, 'video_id': 'live'}, 'user': {'user_id': 'A279529E-02EE-43EA-815F-468A784005DD'}}, 'event': 'ERROR_VIDEO_PLAY', 'session_id': 'wegRtCi7ebjmWxirrlIBd8AtOaTZNfn3'}]}]\n"
     ]
    }
   ],
   "source": [
    "import json\n",
    "messages = []\n",
    "\n",
    "min_count = 70000\n",
    "max_count = 100000\n",
    "count = 0\n",
    "with open('/Users/chada/Desktop/Inbox/video_messages_2.txt') as json_file:\n",
    "    for line in json_file:\n",
    "        #messages.append(json.loads(line))\n",
    "        if line.strip() != '':\n",
    "            count += 1\n",
    "            try:\n",
    "                if (count > min_count and count < max_count):\n",
    "                    message = json.loads(line)\n",
    "                    messages.append(message)                \n",
    "            except:                \n",
    "                print(count)\n",
    "                print('\"' + line.strip() + '\"')\n",
    "                \n",
    "        if count > max_count:\n",
    "            break\n",
    "                \n",
    "print(len(messages)) \n",
    "print(messages[0:3])"
   ]
  },
  {
   "cell_type": "code",
   "execution_count": 173,
   "metadata": {
    "collapsed": false
   },
   "outputs": [
    {
     "name": "stdout",
     "output_type": "stream",
     "text": [
      "90000\n",
      "90500\n",
      "91000\n",
      "91500\n",
      "92000\n",
      "92500\n",
      "93000\n",
      "93500\n",
      "94000\n",
      "94500\n",
      "95000\n",
      "95500\n",
      "96000\n",
      "96500\n",
      "97000\n",
      "97500\n",
      "98000\n",
      "98500\n",
      "99000\n",
      "99500\n",
      "100000\n",
      "100500\n",
      "101000\n",
      "101500\n",
      "102000\n",
      "102500\n",
      "103000\n",
      "103500\n",
      "104000\n",
      "104500\n",
      "105000\n",
      "105500\n",
      "106000\n",
      "106500\n",
      "107000\n",
      "107500\n",
      "108000\n",
      "108500\n",
      "109000\n",
      "109500\n",
      "110000\n",
      "110500\n",
      "111000\n",
      "111500\n",
      "112000\n",
      "112500\n",
      "113000\n",
      "113500\n",
      "114000\n",
      "114500\n",
      "115000\n",
      "115500\n",
      "116000\n",
      "116500\n",
      "117000\n",
      "117500\n",
      "118000\n",
      "118500\n",
      "119000\n",
      "119500\n"
     ]
    }
   ],
   "source": [
    "count = 90000\n",
    "for message in messages:\n",
    "    #print(message)\n",
    "    if count % 500 == 0: \n",
    "        print(count)\n",
    "    es.index(index='messages', doc_type='message', id=count, body=json.dumps(message))    \n",
    "    count += 1"
   ]
  },
  {
   "cell_type": "code",
   "execution_count": 38,
   "metadata": {
    "collapsed": false
   },
   "outputs": [
    {
     "data": {
      "text/plain": [
       "{'acknowledged': True}"
      ]
     },
     "execution_count": 38,
     "metadata": {},
     "output_type": "execute_result"
    }
   ],
   "source": [
    "from elasticsearch.client import IndicesClient\n",
    "#iclient.delete(index='people')\n",
    "\n",
    "es_index = IndicesClient(es)\n",
    "#es_index.exists(index='messages')\n",
    "es_index.delete(index='videos')"
   ]
  },
  {
   "cell_type": "code",
   "execution_count": 192,
   "metadata": {
    "collapsed": false
   },
   "outputs": [
    {
     "data": {
      "text/plain": [
       "{'acknowledged': True, 'shards_acknowledged': True}"
      ]
     },
     "execution_count": 192,
     "metadata": {},
     "output_type": "execute_result"
    }
   ],
   "source": [
    "#localhost\n",
    "\n",
    "# body = \"\"\"{\n",
    "#   \"mappings\": {\n",
    "#     \"message\": {\n",
    "#       \"properties\": {\n",
    "#           \"data\": {\n",
    "#               \"properties\": {\n",
    "#                   \"datetime\": {\n",
    "#                       \"type\":   \"date\",\n",
    "#                       \"format\": \"yyyy-MM-dd HH:mm:ss\"\n",
    "#                   }                  \n",
    "#               }\n",
    "#           }\n",
    "#       }\n",
    "#     }\n",
    "#   }  \n",
    "# }\"\"\"\n",
    "\n",
    "#aws\n",
    "body = \"\"\"{\n",
    "  \"mappings\": {\n",
    "    \"message\": {\n",
    "      \"properties\": {\n",
    "          \"insert_date\": {\n",
    "            \"type\":   \"date\",\n",
    "            \"format\": \"yyyy-MM-dd HH:mm:ss\"\n",
    "          },\n",
    "          \"create_date\": {\n",
    "            \"type\":   \"date\",\n",
    "            \"format\": \"yyyy-MM-dd HH:mm:ss\"\n",
    "          }\n",
    "        }\n",
    "      }\n",
    "    }  \n",
    "}\"\"\"\n",
    "\n",
    "es_index.create(index='messages', body=body)\n",
    "\n"
   ]
  },
  {
   "cell_type": "code",
   "execution_count": 186,
   "metadata": {
    "collapsed": false
   },
   "outputs": [
    {
     "name": "stdout",
     "output_type": "stream",
     "text": [
      "\u001b[31mDEPRECATION: The default format will switch to columns in the future. You can use --format=(legacy|columns) (or define a format=(legacy|columns) in your pip.conf under the [list] section) to disable this warning.\u001b[0m\n",
      "alabaster (0.7.7)\n",
      "anaconda-client (1.4.0)\n",
      "anaconda-navigator (1.1.0)\n",
      "appnope (0.1.0)\n",
      "appscript (1.0.1)\n",
      "argcomplete (1.0.0)\n",
      "astropy (1.1.2)\n",
      "awscli (1.6.2)\n",
      "Babel (2.2.0)\n",
      "backports-abc (0.4)\n",
      "backports.ssl-match-hostname (3.4.0.2)\n",
      "bcdoc (0.12.2)\n",
      "beautifulsoup4 (4.4.1)\n",
      "bitarray (0.8.1)\n",
      "blaze (0.9.1)\n",
      "bokeh (0.11.1)\n",
      "boto (2.33.0)\n",
      "botocore (0.73.0)\n",
      "Bottleneck (1.0.0)\n",
      "cdecimal (2.3)\n",
      "certifi (2015.4.28)\n",
      "cffi (1.5.2)\n",
      "chest (0.2.3)\n",
      "cloudpickle (0.1.1)\n",
      "clyent (1.2.1)\n",
      "colorama (0.2.5)\n",
      "conda-manager (0.3.1)\n",
      "configobj (5.0.6)\n",
      "cryptography (1.3)\n",
      "cycler (0.10.0)\n",
      "Cython (0.23.4)\n",
      "cytoolz (0.7.5)\n",
      "dask (0.8.1)\n",
      "datashape (0.5.1)\n",
      "decorator (4.0.9)\n",
      "dill (0.2.4)\n",
      "docutils (0.14)\n",
      "dynd (0.7.3.dev1)\n",
      "elasticsearch (6.1.1)\n",
      "enum34 (1.1.2)\n",
      "et-xmlfile (1.0.1)\n",
      "fastcache (1.0.2)\n",
      "Flask (0.10.1)\n",
      "Flask-Cors (2.1.2)\n",
      "funcsigs (0.4)\n",
      "functools32 (3.2.3.post2)\n",
      "futures (3.1.1)\n",
      "genson (0.1.0)\n",
      "gevent (1.1.0)\n",
      "GraphLab-Create (2.1)\n",
      "GraphLab-Create-License (2.1)\n",
      "greenlet (0.4.9)\n",
      "grin (1.2.1)\n",
      "h5py (2.5.0)\n",
      "HeapDict (1.0.0)\n",
      "idna (2.0)\n",
      "ipaddress (1.0.14)\n",
      "ipykernel (4.3.1)\n",
      "ipython (4.1.2)\n",
      "ipython-genutils (0.1.0)\n",
      "ipywidgets (4.1.1)\n",
      "itsdangerous (0.24)\n",
      "jdcal (1.2)\n",
      "jedi (0.9.0)\n",
      "Jinja2 (2.8)\n",
      "jmespath (0.5.0)\n",
      "jsonschema (2.5.1)\n",
      "jupyter (1.0.0)\n",
      "jupyter-client (4.2.2)\n",
      "jupyter-console (4.1.1)\n",
      "jupyter-core (4.1.0)\n",
      "llvmlite (0.9.0)\n",
      "locket (0.2.0)\n",
      "lxml (3.6.0)\n",
      "MarkupSafe (0.23)\n",
      "matplotlib (1.5.1)\n",
      "mistune (0.7.2)\n",
      "mpmath (0.19)\n",
      "multipledispatch (0.4.9)\n",
      "nbconvert (4.1.0)\n",
      "nbformat (4.0.1)\n",
      "neo4j-driver (1.5.3)\n",
      "networkx (1.11)\n",
      "nltk (3.2)\n",
      "nose (1.3.7)\n",
      "notebook (4.1.0)\n",
      "numba (0.24.0)\n",
      "numexpr (2.5)\n",
      "numpy (1.10.4)\n",
      "odo (0.4.2)\n",
      "openpyxl (2.3.2)\n",
      "pandas (0.18.0)\n",
      "partd (0.3.2)\n",
      "path.py (0.0.0)\n",
      "patsy (0.4.0)\n",
      "pep8 (1.7.0)\n",
      "pexpect (4.0.1)\n",
      "pickleshare (0.5)\n",
      "Pillow (3.1.1)\n",
      "pip (9.0.1)\n",
      "ply (3.8)\n",
      "prettytable (0.7.2)\n",
      "psclient (2.0)\n",
      "psutil (4.1.0)\n",
      "ptyprocess (0.5)\n",
      "py (1.4.31)\n",
      "pyasn1 (0.3.2)\n",
      "PyAudio (0.2.7)\n",
      "pycosat (0.6.1)\n",
      "pycparser (2.14)\n",
      "pycrypto (2.6.1)\n",
      "pycurl (7.19.5.3)\n",
      "pyflakes (1.1.0)\n",
      "Pygments (2.1.1)\n",
      "pyOpenSSL (0.15.1)\n",
      "pyparsing (2.0.3)\n",
      "pytest (2.8.5)\n",
      "python-dateutil (2.6.1)\n",
      "pytz (2016.2)\n",
      "PyYAML (3.11)\n",
      "pyzmq (15.2.0)\n",
      "QtAwesome (0.3.2)\n",
      "qtconsole (4.2.0)\n",
      "QtPy (1.0)\n",
      "redis (2.10.3)\n",
      "requests (2.9.1)\n",
      "rope (0.9.4)\n",
      "rsa (3.1.2)\n",
      "scikit-image (0.12.3)\n",
      "scikit-learn (0.17.1)\n",
      "scipy (0.17.0)\n",
      "setuptools (20.3)\n",
      "simplegeneric (0.8.1)\n",
      "singledispatch (3.4.0.3)\n",
      "six (1.10.0)\n",
      "snowballstemmer (1.2.1)\n",
      "sockjs-tornado (1.0.1)\n",
      "Sphinx (1.3.5)\n",
      "sphinx-rtd-theme (0.1.9)\n",
      "spyder (2.3.8)\n",
      "SQLAlchemy (1.0.12)\n",
      "sseclient (0.0.8)\n",
      "statsmodels (0.6.1)\n",
      "sympy (1.0)\n",
      "tables (3.2.2)\n",
      "terminado (0.5)\n",
      "toolz (0.7.4)\n",
      "tornado (4.3)\n",
      "traitlets (4.2.1)\n",
      "unicodecsv (0.14.1)\n",
      "urllib3 (1.22)\n",
      "Werkzeug (0.11.4)\n",
      "wheel (0.29.0)\n",
      "xlrd (0.9.4)\n",
      "XlsxWriter (0.8.4)\n",
      "xlwings (0.7.0)\n",
      "xlwt (1.0.0)\n"
     ]
    }
   ],
   "source": [
    "!pip list\n"
   ]
  },
  {
   "cell_type": "code",
   "execution_count": 187,
   "metadata": {
    "collapsed": false
   },
   "outputs": [
    {
     "name": "stdout",
     "output_type": "stream",
     "text": [
      "Name: elasticsearch\r\n",
      "Version: 6.1.1\r\n",
      "Summary: Python client for Elasticsearch\r\n",
      "Home-page: https://github.com/elastic/elasticsearch-py\r\n",
      "Author: Honza Král\r\n",
      "Author-email: honza.kral@gmail.com\r\n",
      "License: Apache License, Version 2.0\r\n",
      "Location: /Users/chada/anaconda/envs/gl-env/lib/python2.7/site-packages\r\n",
      "Requires: urllib3\r\n"
     ]
    }
   ],
   "source": [
    "!pip show elasticsearch"
   ]
  },
  {
   "cell_type": "code",
   "execution_count": 188,
   "metadata": {
    "collapsed": false
   },
   "outputs": [
    {
     "name": "stdout",
     "output_type": "stream",
     "text": [
      "Name: urllib3\r\n",
      "Version: 1.22\r\n",
      "Summary: HTTP library with thread-safe connection pooling, file post, and more.\r\n",
      "Home-page: https://urllib3.readthedocs.io/\r\n",
      "Author: Andrey Petrov\r\n",
      "Author-email: andrey.petrov@shazow.net\r\n",
      "License: MIT\r\n",
      "Location: /Users/chada/anaconda/envs/gl-env/lib/python2.7/site-packages\r\n",
      "Requires: \r\n"
     ]
    }
   ],
   "source": [
    "!pip show urllib3\n"
   ]
  },
  {
   "cell_type": "code",
   "execution_count": 39,
   "metadata": {
    "collapsed": false
   },
   "outputs": [
    {
     "data": {
      "text/plain": [
       "{'acknowledged': True, 'shards_acknowledged': True}"
      ]
     },
     "execution_count": 39,
     "metadata": {},
     "output_type": "execute_result"
    }
   ],
   "source": [
    "body = \"\"\"{\n",
    "  \"mappings\": {\n",
    "    \"video\": {\n",
    "      \"properties\": {\n",
    "          \"insert_date\": {\n",
    "            \"type\":   \"date\",\n",
    "            \"format\": \"yyyy-MM-dd HH:mm:ss\"\n",
    "          }\n",
    "        }\n",
    "      }\n",
    "    }  \n",
    "}\"\"\"\n",
    "\n",
    "es_index.create(index='videos', body=body)"
   ]
  },
  {
   "cell_type": "code",
   "execution_count": null,
   "metadata": {
    "collapsed": true
   },
   "outputs": [],
   "source": []
  }
 ],
 "metadata": {
  "kernelspec": {
   "display_name": "Python (3.4.1)",
   "language": "python",
   "name": "python341"
  },
  "language_info": {
   "codemirror_mode": {
    "name": "ipython",
    "version": 3
   },
   "file_extension": ".py",
   "mimetype": "text/x-python",
   "name": "python",
   "nbconvert_exporter": "python",
   "pygments_lexer": "ipython3",
   "version": "3.4.1"
  }
 },
 "nbformat": 4,
 "nbformat_minor": 1
}
